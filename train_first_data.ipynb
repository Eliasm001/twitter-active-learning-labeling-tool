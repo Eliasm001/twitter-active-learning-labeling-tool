{
 "cells": [
  {
   "cell_type": "code",
   "execution_count": 39,
   "metadata": {},
   "outputs": [],
   "source": [
    "import numpy as np\n",
    "import pandas as pd\n",
    "import tensorflow as tf\n",
    "import tensorflow_hub as hub\n",
    "import matplotlib.pyplot as plt\n",
    "from sklearn.model_selection import train_test_split \n",
    "#from sklearn.metrics import accuracy\n",
    "#import tensorflow_text as text"
   ]
  },
  {
   "cell_type": "code",
   "execution_count": 35,
   "metadata": {},
   "outputs": [],
   "source": [
    "df = pd.read_csv(\"active-learning-for-tweet-sentiment-classification/Data/twitter_sentiment_data.csv\")\n",
    "df.loc[df.sentiment == 2, \"sentiment\"] = -1\n",
    "x_train,x_test,y_train,y_test = train_test_split(df.message.values,df.sentiment.values,test_size= 0.33)"
   ]
  },
  {
   "cell_type": "code",
   "execution_count": 24,
   "metadata": {},
   "outputs": [],
   "source": []
  },
  {
   "cell_type": "code",
   "execution_count": 45,
   "metadata": {},
   "outputs": [],
   "source": [
    "#bert_preprocess = hub.KerasLayer(\"https://tfhub.dev/tensorflow/bert_en_uncased_preprocess/3\")\n",
    "bert_encoder = hub.KerasLayer(\"https://tfhub.dev/tensorflow/bert_en_uncased_L-12_H-768_A-12/4\")"
   ]
  },
  {
   "cell_type": "code",
   "execution_count": 43,
   "metadata": {},
   "outputs": [
    {
     "ename": "NameError",
     "evalue": "name 'bert_preprocess' is not defined",
     "output_type": "error",
     "traceback": [
      "\u001b[0;31m---------------------------------------------------------------------------\u001b[0m",
      "\u001b[0;31mNameError\u001b[0m                                 Traceback (most recent call last)",
      "\u001b[1;32m/Users/davide/Teamprojekt/active-learning-for-tweet-sentiment-classification/train_first_data.ipynb Zelle 5\u001b[0m in \u001b[0;36m<cell line: 3>\u001b[0;34m()\u001b[0m\n\u001b[1;32m      <a href='vscode-notebook-cell:/Users/davide/Teamprojekt/active-learning-for-tweet-sentiment-classification/train_first_data.ipynb#W4sZmlsZQ%3D%3D?line=0'>1</a>\u001b[0m \u001b[39m# Bert layers\u001b[39;00m\n\u001b[1;32m      <a href='vscode-notebook-cell:/Users/davide/Teamprojekt/active-learning-for-tweet-sentiment-classification/train_first_data.ipynb#W4sZmlsZQ%3D%3D?line=1'>2</a>\u001b[0m text_input \u001b[39m=\u001b[39m tf\u001b[39m.\u001b[39mkeras\u001b[39m.\u001b[39mlayers\u001b[39m.\u001b[39mInput(shape\u001b[39m=\u001b[39m(), dtype\u001b[39m=\u001b[39mtf\u001b[39m.\u001b[39mstring, name\u001b[39m=\u001b[39m\u001b[39m'\u001b[39m\u001b[39mtext\u001b[39m\u001b[39m'\u001b[39m)\n\u001b[0;32m----> <a href='vscode-notebook-cell:/Users/davide/Teamprojekt/active-learning-for-tweet-sentiment-classification/train_first_data.ipynb#W4sZmlsZQ%3D%3D?line=2'>3</a>\u001b[0m preprocessed_text \u001b[39m=\u001b[39m bert_preprocess(text_input)\n\u001b[1;32m      <a href='vscode-notebook-cell:/Users/davide/Teamprojekt/active-learning-for-tweet-sentiment-classification/train_first_data.ipynb#W4sZmlsZQ%3D%3D?line=3'>4</a>\u001b[0m outputs \u001b[39m=\u001b[39m bert_encoder(preprocessed_text)\n\u001b[1;32m      <a href='vscode-notebook-cell:/Users/davide/Teamprojekt/active-learning-for-tweet-sentiment-classification/train_first_data.ipynb#W4sZmlsZQ%3D%3D?line=4'>5</a>\u001b[0m \u001b[39m# Neural network layers\u001b[39;00m\n",
      "\u001b[0;31mNameError\u001b[0m: name 'bert_preprocess' is not defined"
     ]
    }
   ],
   "source": [
    "# Bert layers\n",
    "text_input = tf.keras.layers.Input(shape=(), dtype=tf.string, name='text')\n",
    "preprocessed_text = bert_preprocess(text_input)\n",
    "outputs = bert_encoder(preprocessed_text)\n",
    "# Neural network layers\n",
    "l = tf.keras.layers.Dropout(0.1, name=\"dropout\")(outputs['pooled_output'])\n",
    "l = tf.keras.layers.Dense(1, activation='sigmoid', name=\"output\")(l)\n",
    "# Use inputs and outputs to construct a final model\n",
    "model = tf.keras.Model(inputs=[text_input], outputs = [l])\n",
    "\n",
    "model.summary()"
   ]
  },
  {
   "cell_type": "code",
   "execution_count": 10,
   "metadata": {},
   "outputs": [],
   "source": [
    "model.compile(optimizer='adam',loss=tf.losses.BinaryCrossentropy(from_logits=True),metrics=[tf.metrics.BinaryAccuracy(threshold=0.0, name='accuracy')])\n"
   ]
  },
  {
   "cell_type": "code",
   "execution_count": 27,
   "metadata": {},
   "outputs": [
    {
     "name": "stdout",
     "output_type": "stream",
     "text": [
      "Epoch 1/40\n",
      "58/58 [==============================] - 77s 1s/step - loss: 0.3097 - accuracy: 0.5013\n",
      "Epoch 2/40\n",
      "58/58 [==============================] - 65s 1s/step - loss: -0.5561 - accuracy: 0.5219\n",
      "Epoch 3/40\n",
      "58/58 [==============================] - 72s 1s/step - loss: -1.9804 - accuracy: 0.5225\n",
      "Epoch 4/40\n",
      "58/58 [==============================] - 76s 1s/step - loss: -5.5500 - accuracy: 0.5249\n",
      "Epoch 5/40\n",
      "58/58 [==============================] - 76s 1s/step - loss: -12.7262 - accuracy: 0.5270\n",
      "Epoch 6/40\n",
      "58/58 [==============================] - 71s 1s/step - loss: -24.7782 - accuracy: 0.5291\n",
      "Epoch 7/40\n",
      "58/58 [==============================] - 73s 1s/step - loss: -42.6678 - accuracy: 0.5293\n",
      "Epoch 8/40\n",
      "58/58 [==============================] - 54s 933ms/step - loss: -67.4683 - accuracy: 0.5301\n",
      "Epoch 9/40\n",
      "58/58 [==============================] - 66s 1s/step - loss: -100.1095 - accuracy: 0.5304\n",
      "Epoch 10/40\n",
      "58/58 [==============================] - 63s 1s/step - loss: -141.2504 - accuracy: 0.5308\n",
      "Epoch 11/40\n",
      "58/58 [==============================] - 64s 1s/step - loss: -191.6653 - accuracy: 0.5304\n",
      "Epoch 12/40\n",
      "58/58 [==============================] - 66s 1s/step - loss: -252.2200 - accuracy: 0.5310\n",
      "Epoch 13/40\n",
      "58/58 [==============================] - 55s 953ms/step - loss: -323.6216 - accuracy: 0.5303\n",
      "Epoch 14/40\n",
      "58/58 [==============================] - 62s 1s/step - loss: -406.5634 - accuracy: 0.5306\n",
      "Epoch 15/40\n",
      "58/58 [==============================] - 60s 1s/step - loss: -501.5954 - accuracy: 0.5305\n",
      "Epoch 16/40\n",
      "58/58 [==============================] - 54s 923ms/step - loss: -609.2445 - accuracy: 0.5308\n",
      "Epoch 17/40\n",
      "58/58 [==============================] - 57s 981ms/step - loss: -730.2699 - accuracy: 0.5307\n",
      "Epoch 18/40\n",
      "58/58 [==============================] - 70s 1s/step - loss: -865.3946 - accuracy: 0.5308\n",
      "Epoch 19/40\n",
      "58/58 [==============================] - 57s 977ms/step - loss: -1013.7624 - accuracy: 0.5303\n",
      "Epoch 20/40\n",
      "58/58 [==============================] - 57s 975ms/step - loss: -1176.7968 - accuracy: 0.5307\n",
      "Epoch 21/40\n",
      "58/58 [==============================] - 54s 927ms/step - loss: -1355.2650 - accuracy: 0.5310\n",
      "Epoch 22/40\n",
      "58/58 [==============================] - 54s 935ms/step - loss: -1548.4640 - accuracy: 0.5307\n",
      "Epoch 23/40\n",
      "58/58 [==============================] - 55s 949ms/step - loss: -1758.3494 - accuracy: 0.5308\n",
      "Epoch 24/40\n",
      "58/58 [==============================] - 56s 968ms/step - loss: -1983.7111 - accuracy: 0.5304\n",
      "Epoch 25/40\n",
      "58/58 [==============================] - 55s 951ms/step - loss: -2225.6074 - accuracy: 0.5306\n",
      "Epoch 26/40\n",
      "58/58 [==============================] - 54s 935ms/step - loss: -2484.3074 - accuracy: 0.5305\n",
      "Epoch 27/40\n",
      "58/58 [==============================] - 56s 956ms/step - loss: -2760.5532 - accuracy: 0.5311\n",
      "Epoch 28/40\n",
      "58/58 [==============================] - 55s 943ms/step - loss: -3054.1975 - accuracy: 0.5307\n",
      "Epoch 29/40\n",
      "58/58 [==============================] - 126s 2s/step - loss: -3364.8406 - accuracy: 0.5301\n",
      "Epoch 30/40\n",
      "58/58 [==============================] - 2814s 49s/step - loss: -3693.4270 - accuracy: 0.5308\n",
      "Epoch 31/40\n",
      "58/58 [==============================] - 229s 4s/step - loss: -4040.9700 - accuracy: 0.5308\n",
      "Epoch 32/40\n",
      "58/58 [==============================] - 231s 4s/step - loss: -4405.8628 - accuracy: 0.5307\n",
      "Epoch 33/40\n",
      "58/58 [==============================] - 231s 4s/step - loss: -4790.0527 - accuracy: 0.5310\n",
      "Epoch 34/40\n",
      "58/58 [==============================] - 228s 4s/step - loss: -5192.1133 - accuracy: 0.5301\n",
      "Epoch 35/40\n",
      "58/58 [==============================] - 229s 4s/step - loss: -5613.6870 - accuracy: 0.5309\n",
      "Epoch 36/40\n",
      "58/58 [==============================] - 230s 4s/step - loss: -6054.5781 - accuracy: 0.5306\n",
      "Epoch 37/40\n",
      "58/58 [==============================] - 247s 4s/step - loss: -6515.2646 - accuracy: 0.5307\n",
      "Epoch 38/40\n",
      "58/58 [==============================] - 240s 4s/step - loss: -6996.0713 - accuracy: 0.5310\n",
      "Epoch 39/40\n",
      "58/58 [==============================] - 273s 5s/step - loss: -7496.8066 - accuracy: 0.5304\n",
      "Epoch 40/40\n",
      "58/58 [==============================] - 248s 4s/step - loss: -8016.3442 - accuracy: 0.5309\n"
     ]
    }
   ],
   "source": [
    "history = model.fit(x_train,y_train,epochs=40,batch_size=512,verbose=1)"
   ]
  },
  {
   "cell_type": "code",
   "execution_count": 29,
   "metadata": {},
   "outputs": [
    {
     "name": "stdout",
     "output_type": "stream",
     "text": [
      "454/454 [==============================] - 118s 257ms/step\n"
     ]
    },
    {
     "data": {
      "text/plain": [
       "array([[26661.754],\n",
       "       [36050.47 ],\n",
       "       [16316.627],\n",
       "       ...,\n",
       "       [43642.766],\n",
       "       [26067.   ],\n",
       "       [43431.094]], dtype=float32)"
      ]
     },
     "execution_count": 29,
     "metadata": {},
     "output_type": "execute_result"
    }
   ],
   "source": [
    "model.predict(x_test)"
   ]
  },
  {
   "cell_type": "code",
   "execution_count": null,
   "metadata": {},
   "outputs": [],
   "source": []
  }
 ],
 "metadata": {
  "kernelspec": {
   "display_name": "Python 3 (ipykernel)",
   "language": "python",
   "name": "python3"
  },
  "language_info": {
   "codemirror_mode": {
    "name": "ipython",
    "version": 3
   },
   "file_extension": ".py",
   "mimetype": "text/x-python",
   "name": "python",
   "nbconvert_exporter": "python",
   "pygments_lexer": "ipython3",
   "version": "3.10.6"
  },
  "orig_nbformat": 4,
  "vscode": {
   "interpreter": {
    "hash": "ec757111aa82fc412dab5a41ba1a33fdb6db5c8112df3ff06fec0dbff050b412"
   }
  }
 },
 "nbformat": 4,
 "nbformat_minor": 2
}
